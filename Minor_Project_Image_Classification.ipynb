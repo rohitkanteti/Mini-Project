{
  "nbformat": 4,
  "nbformat_minor": 0,
  "metadata": {
    "colab": {
      "name": "Minor Project - Image Classification.ipynb",
      "provenance": [],
      "mount_file_id": "12RYXXe1KjDGqckXXdWThBmaFYxv1GJNJ",
      "authorship_tag": "ABX9TyPrCZYr0mc95XQzvcGGXgFI",
      "include_colab_link": true
    },
    "kernelspec": {
      "name": "python3",
      "display_name": "Python 3"
    },
    "language_info": {
      "name": "python"
    }
  },
  "cells": [
    {
      "cell_type": "markdown",
      "metadata": {
        "id": "view-in-github",
        "colab_type": "text"
      },
      "source": [
        "<a href=\"https://colab.research.google.com/github/rohitkanteti/Mini-Project/blob/main/Minor_Project_Image_Classification.ipynb\" target=\"_parent\"><img src=\"https://colab.research.google.com/assets/colab-badge.svg\" alt=\"Open In Colab\"/></a>"
      ]
    },
    {
      "cell_type": "code",
      "metadata": {
        "id": "-0neVXhtM4sd"
      },
      "source": [
        "#Preprocessing\n",
        "\n",
        "import os\n",
        "import matplotlib.pyplot as plt\n",
        "import numpy as np\n",
        "from skimage.io import imread\n",
        "from skimage.transform import resize"
      ],
      "execution_count": 1,
      "outputs": []
    },
    {
      "cell_type": "code",
      "metadata": {
        "id": "tKyMBQmHTUqU"
      },
      "source": [
        "target = []\n",
        "images = []\n",
        "flat_data = []\n",
        "\n",
        "datadir = \"/content/drive/MyDrive/SMARTKNOWER-ML/MLSessions/datasets/MinorProjectDataSet\"\n",
        "categories = ['airplane','fruit','dog']\n",
        "\n",
        "for category in categories:\n",
        "  class_num = categories.index(category) #Label encoding\n",
        "  path = os.path.join(datadir,category)\n",
        "  #print(path)\n",
        "  for img in os.listdir(path):\n",
        "    img_array = imread(os.path.join(path,img))\n",
        "    #print(img_array)\n",
        "    # plt.imshow(img_array)\n",
        "    # break\n",
        "    img_resized = resize(img_array,(150,150,3))#resize\n",
        "    flat_data.append(img_resized.flatten())#flatten\n",
        "    images.append(img_resized)\n",
        "    target.append(class_num)\n",
        "flat_data =np.array(flat_data)\n",
        "target = np.array(target)\n",
        "images = np.array(images)"
      ],
      "execution_count": 2,
      "outputs": []
    },
    {
      "cell_type": "code",
      "metadata": {
        "colab": {
          "base_uri": "https://localhost:8080/"
        },
        "id": "k8OWD6ZrbBR1",
        "outputId": "385944d1-79a0-42dc-8352-2120cf307c25"
      },
      "source": [
        "flat_data"
      ],
      "execution_count": 3,
      "outputs": [
        {
          "output_type": "execute_result",
          "data": {
            "text/plain": [
              "array([[0.7072617 , 0.78991843, 0.83988601, ..., 0.51439216, 0.49188235,\n",
              "        0.38992157],\n",
              "       [0.2396183 , 0.28275556, 0.22785359, ..., 0.50885961, 0.46729255,\n",
              "        0.38886118],\n",
              "       [0.79875817, 0.65379342, 0.4184993 , ..., 0.84187442, 0.61568627,\n",
              "        0.38655159],\n",
              "       ...,\n",
              "       [0.31960784, 0.25686275, 0.18381699, ..., 0.23360784, 0.2158366 ,\n",
              "        0.23005882],\n",
              "       [0.80738998, 0.72895861, 0.59841307, ..., 0.52510588, 0.51897865,\n",
              "        0.33074336],\n",
              "       [0.29155904, 0.29639564, 0.24057865, ..., 0.29208192, 0.26763747,\n",
              "        0.28423878]])"
            ]
          },
          "metadata": {
            "tags": []
          },
          "execution_count": 3
        }
      ]
    },
    {
      "cell_type": "code",
      "metadata": {
        "colab": {
          "base_uri": "https://localhost:8080/"
        },
        "id": "fInnSIowbZTy",
        "outputId": "22d2f6f9-f910-4239-9c29-847343eb7074"
      },
      "source": [
        "target"
      ],
      "execution_count": 4,
      "outputs": [
        {
          "output_type": "execute_result",
          "data": {
            "text/plain": [
              "array([0, 0, 0, 0, 0, 0, 0, 0, 0, 0, 0, 0, 0, 0, 0, 0, 0, 0, 0, 0, 0, 0,\n",
              "       0, 0, 0, 0, 0, 0, 0, 0, 0, 0, 0, 0, 0, 0, 0, 0, 0, 0, 0, 0, 0, 0,\n",
              "       0, 0, 0, 0, 0, 0, 0, 0, 0, 0, 0, 0, 0, 0, 0, 0, 0, 0, 0, 0, 0, 0,\n",
              "       0, 0, 0, 0, 0, 0, 0, 0, 0, 0, 0, 0, 0, 0, 0, 0, 0, 0, 0, 0, 0, 0,\n",
              "       0, 0, 0, 0, 0, 0, 0, 0, 0, 0, 0, 0, 0, 0, 0, 0, 0, 0, 0, 0, 0, 0,\n",
              "       0, 0, 0, 0, 0, 0, 0, 0, 0, 0, 0, 0, 0, 0, 0, 0, 0, 0, 0, 0, 0, 0,\n",
              "       0, 0, 0, 0, 0, 0, 0, 0, 0, 0, 0, 0, 0, 0, 0, 0, 0, 0, 0, 0, 0, 1,\n",
              "       1, 1, 1, 1, 1, 1, 1, 1, 1, 1, 1, 1, 1, 1, 1, 1, 1, 1, 1, 1, 1, 1,\n",
              "       1, 1, 1, 1, 1, 1, 1, 1, 1, 1, 1, 1, 1, 1, 1, 1, 1, 1, 1, 1, 1, 1,\n",
              "       1, 1, 1, 1, 1, 1, 1, 1, 1, 1, 1, 1, 1, 1, 1, 1, 1, 1, 1, 1, 1, 1,\n",
              "       1, 1, 1, 1, 1, 1, 1, 1, 1, 1, 1, 1, 1, 1, 1, 1, 1, 1, 1, 1, 1, 1,\n",
              "       1, 1, 1, 1, 1, 1, 1, 1, 1, 1, 1, 1, 1, 1, 1, 1, 1, 1, 1, 1, 1, 1,\n",
              "       1, 1, 1, 2, 2, 2, 2, 2, 2, 2, 2, 2, 2, 2, 2, 2, 2, 2, 2, 2, 2, 2,\n",
              "       2, 2, 2, 2, 2, 2, 2, 2, 2, 2, 2, 2, 2, 2, 2, 2, 2, 2, 2, 2, 2, 2,\n",
              "       2, 2, 2, 2, 2, 2, 2, 2, 2, 2, 2, 2, 2, 2, 2, 2, 2, 2, 2, 2, 2, 2,\n",
              "       2, 2, 2, 2, 2, 2, 2, 2, 2, 2, 2, 2, 2, 2, 2, 2, 2, 2, 2, 2, 2, 2,\n",
              "       2, 2, 2, 2, 2, 2, 2, 2, 2, 2, 2, 2, 2, 2, 2, 2, 2, 2, 2, 2, 2])"
            ]
          },
          "metadata": {
            "tags": []
          },
          "execution_count": 4
        }
      ]
    },
    {
      "cell_type": "code",
      "metadata": {
        "colab": {
          "base_uri": "https://localhost:8080/",
          "height": 286
        },
        "id": "c12Be-ixbewW",
        "outputId": "ce0289c3-b565-4f8d-ed49-7450a04bc9d8"
      },
      "source": [
        "unique,count = np.unique(target,return_counts=True)\n",
        "plt.bar(categories,count)"
      ],
      "execution_count": 5,
      "outputs": [
        {
          "output_type": "execute_result",
          "data": {
            "text/plain": [
              "<BarContainer object of 3 artists>"
            ]
          },
          "metadata": {
            "tags": []
          },
          "execution_count": 5
        },
        {
          "output_type": "display_data",
          "data": {
            "image/png": "[encoded data removed]",
            "text/plain": [
              "<Figure size 432x288 with 1 Axes>"
            ]
          },
          "metadata": {
            "tags": [],
            "needs_background": "light"
          }
        }
      ]
    },
    {
      "cell_type": "code",
      "metadata": {
        "id": "nl8h2SFSb6gI"
      },
      "source": [
        " #split data into training and testing\n",
        " from sklearn.model_selection import train_test_split\n",
        " x_train,x_test,y_train,y_test = train_test_split(flat_data,target,test_size = 0.3,random_state=0)\n"
      ],
      "execution_count": 6,
      "outputs": []
    },
    {
      "cell_type": "code",
      "metadata": {
        "id": "4xVE0GKlchzg"
      },
      "source": [
        "#Hyper Parameter Tuning and using Support Vector Machine\n",
        "from sklearn.model_selection import GridSearchCV\n",
        "from sklearn import svm\n",
        "\n",
        "param_grid = {'C':[0.1,1,10,100],\n",
        "              'kernel':['linear','rbf']}\n",
        "svc = svm.SVC(probability=True)\n",
        "grid = GridSearchCV(svc,param_grid)\n"
      ],
      "execution_count": 7,
      "outputs": []
    },
    {
      "cell_type": "code",
      "metadata": {
        "colab": {
          "base_uri": "https://localhost:8080/"
        },
        "id": "eNd4jv6hiYWD",
        "outputId": "effbc87d-6681-4447-f007-a2189c763723"
      },
      "source": [
        "grid.fit(x_train,y_train)"
      ],
      "execution_count": 8,
      "outputs": [
        {
          "output_type": "execute_result",
          "data": {
            "text/plain": [
              "GridSearchCV(cv=None, error_score=nan,\n",
              "             estimator=SVC(C=1.0, break_ties=False, cache_size=200,\n",
              "                           class_weight=None, coef0=0.0,\n",
              "                           decision_function_shape='ovr', degree=3,\n",
              "                           gamma='scale', kernel='rbf', max_iter=-1,\n",
              "                           probability=True, random_state=None, shrinking=True,\n",
              "                           tol=0.001, verbose=False),\n",
              "             iid='deprecated', n_jobs=None,\n",
              "             param_grid={'C': [0.1, 1, 10, 100], 'kernel': ['linear', 'rbf']},\n",
              "             pre_dispatch='2*n_jobs', refit=True, return_train_score=False,\n",
              "             scoring=None, verbose=0)"
            ]
          },
          "metadata": {
            "tags": []
          },
          "execution_count": 8
        }
      ]
    },
    {
      "cell_type": "code",
      "metadata": {
        "colab": {
          "base_uri": "https://localhost:8080/"
        },
        "id": "7XJ1TA7N0RFH",
        "outputId": "c9933aa6-34aa-420f-acd5-5a51eca9591a"
      },
      "source": [
        "y_pred = grid.predict(x_test)\n",
        "y_pred"
      ],
      "execution_count": 39,
      "outputs": [
        {
          "output_type": "execute_result",
          "data": {
            "text/plain": [
              "array([0, 2, 2, 1, 1, 0, 0, 0, 0, 1, 1, 2, 2, 0, 0, 2, 1, 1, 0, 1, 0, 1,\n",
              "       1, 2, 0, 2, 0, 0, 0, 0, 2, 1, 0, 1, 1, 2, 0, 0, 0, 0, 0, 0, 0, 2,\n",
              "       1, 0, 0, 0, 0, 0, 2, 1, 1, 0, 0, 2, 2, 1, 1, 0, 0, 0, 2, 1, 0, 0,\n",
              "       2, 2, 1, 2, 0, 0, 1, 2, 0, 2, 0, 1, 0, 0, 2, 0, 2, 1, 1, 0, 2, 1,\n",
              "       0, 2, 1, 1, 1, 1, 1, 1, 0, 1, 2, 1, 0, 1, 0, 1, 0, 0, 0, 1, 2, 1,\n",
              "       0, 1])"
            ]
          },
          "metadata": {
            "tags": []
          },
          "execution_count": 39
        }
      ]
    },
    {
      "cell_type": "code",
      "metadata": {
        "colab": {
          "base_uri": "https://localhost:8080/"
        },
        "id": "J9Eyr3QM0WMJ",
        "outputId": "5018215a-6cf1-474b-eeef-c9fe501fea37"
      },
      "source": [
        "y_test"
      ],
      "execution_count": 15,
      "outputs": [
        {
          "output_type": "execute_result",
          "data": {
            "text/plain": [
              "array([0, 2, 0, 1, 1, 0, 2, 0, 0, 1, 1, 2, 2, 0, 0, 2, 1, 1, 0, 1, 0, 1,\n",
              "       1, 2, 0, 2, 0, 0, 0, 0, 2, 1, 0, 1, 1, 2, 0, 0, 0, 0, 0, 0, 0, 2,\n",
              "       1, 0, 0, 0, 0, 0, 2, 1, 1, 2, 0, 2, 2, 1, 1, 0, 0, 0, 2, 1, 0, 0,\n",
              "       2, 2, 1, 2, 0, 0, 1, 2, 0, 2, 0, 1, 0, 0, 2, 0, 2, 1, 1, 0, 2, 1,\n",
              "       0, 2, 1, 1, 1, 1, 1, 1, 0, 1, 2, 1, 0, 1, 0, 1, 0, 0, 2, 1, 2, 1,\n",
              "       0, 1])"
            ]
          },
          "metadata": {
            "tags": []
          },
          "execution_count": 15
        }
      ]
    },
    {
      "cell_type": "code",
      "metadata": {
        "id": "6_lM2miX3mAc"
      },
      "source": [
        "from sklearn.metrics import accuracy_score,confusion_matrix,classification_report"
      ],
      "execution_count": 22,
      "outputs": []
    },
    {
      "cell_type": "code",
      "metadata": {
        "colab": {
          "base_uri": "https://localhost:8080/"
        },
        "id": "shwK4gSqM34p",
        "outputId": "4eec7d89-679d-4a39-eada-03749af271dd"
      },
      "source": [
        "accuracy_score(y_pred,y_test)"
      ],
      "execution_count": 23,
      "outputs": [
        {
          "output_type": "execute_result",
          "data": {
            "text/plain": [
              "0.9642857142857143"
            ]
          },
          "metadata": {
            "tags": []
          },
          "execution_count": 23
        }
      ]
    },
    {
      "cell_type": "code",
      "metadata": {
        "colab": {
          "base_uri": "https://localhost:8080/"
        },
        "id": "T2hP2SYMM7g-",
        "outputId": "34ae8c0e-2924-48e2-dbf6-ca7586a0ce9d"
      },
      "source": [
        "confusion_matrix(y_pred,y_test)"
      ],
      "execution_count": 24,
      "outputs": [
        {
          "output_type": "execute_result",
          "data": {
            "text/plain": [
              "array([[47,  0,  3],\n",
              "       [ 0, 37,  0],\n",
              "       [ 1,  0, 24]])"
            ]
          },
          "metadata": {
            "tags": []
          },
          "execution_count": 24
        }
      ]
    },
    {
      "cell_type": "code",
      "metadata": {
        "colab": {
          "base_uri": "https://localhost:8080/"
        },
        "id": "HMa1KoPwNO2l",
        "outputId": "372acbcd-ff34-4c83-e28e-8f57239bdb4c"
      },
      "source": [
        "print(classification_report(y_pred,y_test))"
      ],
      "execution_count": 25,
      "outputs": [
        {
          "output_type": "stream",
          "text": [
            "              precision    recall  f1-score   support\n",
            "\n",
            "           0       0.98      0.94      0.96        50\n",
            "           1       1.00      1.00      1.00        37\n",
            "           2       0.89      0.96      0.92        25\n",
            "\n",
            "    accuracy                           0.96       112\n",
            "   macro avg       0.96      0.97      0.96       112\n",
            "weighted avg       0.97      0.96      0.96       112\n",
            "\n"
          ],
          "name": "stdout"
        }
      ]
    },
    {
      "cell_type": "code",
      "metadata": {
        "id": "0wCtx2qiQc8H"
      },
      "source": [
        "#Testing with New Data\n",
        "flat_data1 = []\n",
        "\n",
        "datadir1 = \"/content/drive/MyDrive/SMARTKNOWER-ML/MLSessions/datasets/MinorProjectDataSet\"\n",
        "categories = ['Test']\n",
        "\n",
        "for category in categories:\n",
        "  \n",
        "  path = os.path.join(datadir,category)\n",
        "  for img in os.listdir(path):\n",
        "    img_array = imread(os.path.join(path,img))\n",
        "    img_resized = resize(img_array,(150,150,3))#resize\n",
        "    flat_data1.append(img_resized.flatten())#flatten\n",
        "flat_data1 =np.array(flat_data1)\n"
      ],
      "execution_count": 52,
      "outputs": []
    },
    {
      "cell_type": "code",
      "metadata": {
        "colab": {
          "base_uri": "https://localhost:8080/"
        },
        "id": "TLqZAyoZSIOU",
        "outputId": "505a580c-244b-4179-a243-db66c347183c"
      },
      "source": [
        "flat_data1"
      ],
      "execution_count": 53,
      "outputs": [
        {
          "output_type": "execute_result",
          "data": {
            "text/plain": [
              "array([[0.16862745, 0.18823529, 0.10980392, ..., 0.48235294, 0.45490196,\n",
              "        0.24313725],\n",
              "       [0.63956863, 0.64722471, 0.6084102 , ..., 0.97238314, 0.85662745,\n",
              "        0.39167725],\n",
              "       [1.        , 1.        , 1.        , ..., 1.        , 1.        ,\n",
              "        1.        ]])"
            ]
          },
          "metadata": {
            "tags": []
          },
          "execution_count": 53
        }
      ]
    },
    {
      "cell_type": "code",
      "metadata": {
        "colab": {
          "base_uri": "https://localhost:8080/"
        },
        "id": "-zHRfSj3SKTO",
        "outputId": "9afc4be8-5be1-4c59-930b-6b579bf874cb"
      },
      "source": [
        "grid.predict(flat_data1)"
      ],
      "execution_count": 54,
      "outputs": [
        {
          "output_type": "execute_result",
          "data": {
            "text/plain": [
              "array([0, 2, 1])"
            ]
          },
          "metadata": {
            "tags": []
          },
          "execution_count": 54
        }
      ]
    },
    {
      "cell_type": "code",
      "metadata": {
        "id": "LGdUAbInSU3v"
      },
      "source": [
        ""
      ],
      "execution_count": null,
      "outputs": []
    }
  ]
}